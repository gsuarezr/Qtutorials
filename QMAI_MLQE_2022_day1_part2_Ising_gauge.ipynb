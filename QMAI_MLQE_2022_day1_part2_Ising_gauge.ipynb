{
  "cells": [
    {
      "cell_type": "markdown",
      "metadata": {
        "id": "view-in-github",
        "colab_type": "text"
      },
      "source": [
        "<a href=\"https://colab.research.google.com/github/gsuarezr/Qtutorials/blob/master/QMAI_MLQE_2022_day1_part2_Ising_gauge.ipynb\" target=\"_parent\"><img src=\"https://colab.research.google.com/assets/colab-badge.svg\" alt=\"Open In Colab\"/></a>"
      ]
    },
    {
      "cell_type": "markdown",
      "source": [
        "### Table of Contents\n",
        "* [Part 2.  Ising model with local constraints: Ising lattice gauge theory (ILGT)](#part_2)\n",
        "    * [Step 1. Import data and analyze the data shape](#Step_1)\n",
        "    * [Step 2. Dense Neural Network](#Step_2)\n",
        "        * [Step 2.1 Data pre-processing](#Step_2_1)\n",
        "        * [Step 2.2 Exercise: Build the DNN](#Step_2_2)\n",
        "        * [Step 2.3 Training and testing](#Step_2_3)\n",
        "        \n",
        "    * [Step 3. Convolutional neural networks (CNNs)](#Step_3)\n",
        "        * [Step 3.1 Data pre-processing](#Step_3_1)\n",
        "        * [Step 3.2 Build the CNN](#Step_3_2)\n",
        "        * [Step 3.3 Training and testing](#Step_3_3)\n",
        "        * [Step 3.4 Exercise: Analyse and change the model](#Step_3_4)\n"
      ],
      "metadata": {
        "id": "kNljo8Na0Tyk"
      },
      "id": "kNljo8Na0Tyk"
    },
    {
      "cell_type": "code",
      "execution_count": null,
      "metadata": {
        "id": "_uKaoUug0cw6",
        "colab": {
          "base_uri": "https://localhost:8080/"
        },
        "outputId": "a0c2c09c-72a5-4d98-debd-948a1996a2f8"
      },
      "outputs": [
        {
          "output_type": "stream",
          "name": "stdout",
          "text": [
            "Cloning into 'mlqe2022_public'...\n",
            "remote: Enumerating objects: 263, done.\u001b[K\n",
            "remote: Counting objects: 100% (263/263), done.\u001b[K\n",
            "remote: Compressing objects: 100% (245/245), done.\u001b[K\n",
            "remote: Total 263 (delta 122), reused 24 (delta 8), pack-reused 0\u001b[K\n",
            "Receiving objects: 100% (263/263), 462.89 MiB | 3.66 MiB/s, done.\n",
            "Resolving deltas: 100% (122/122), done.\n",
            "Updating files: 100% (71/71), done.\n"
          ]
        }
      ],
      "source": [
        "####  un-comment this to get data when you run on google colab:\n",
        "!git clone https://gitlab.com/QMAI/mlqe2022_public.git"
      ],
      "id": "_uKaoUug0cw6"
    },
    {
      "cell_type": "markdown",
      "metadata": {
        "id": "pBMZq1h20cw8"
      },
      "source": [
        "### Part 2. Ising model with local constraints: Ising lattice gauge theory (ILGT) <a class=\"anchor\" id=\"part_2\"></a>\n",
        "\n",
        "In the previous example, we classified spin configurations of the simple Ising model. That was a relatively easy task given that we know that there's a global order paramter, i.e., the magnetization that distinguishes the two phases the model has.\n",
        "\n",
        "In the following, we will look at spin configurations coming from a different model on which the dense neural network spectacularly fails. In this model, Ising spins live on the edges of a square lattice (see Figs. below). The Hamiltonian then favors even down and up spins around a square. If the number is odd, a pentalty is paid. The Hamiltonian is given by\n",
        "\n",
        "\\begin{align}\n",
        "H(\\boldsymbol{\\sigma}) = -\\sum_{p} \\prod_{i \\in p}\\sigma_{i},\n",
        "\\end{align}\n",
        "where we sum over the plaquettes $p$ of the square lattice.\n",
        "\n",
        "This model does not have a finite temperature transition. We thus want to train a network to distinguish the (highly degenerate) ground states of this system from any excited state.\n",
        "\n",
        "Reference:\n",
        "1. [Greplova, Eliska, et al. \"Unsupervised identification of topological phase transitions using predictive models.\" New Journal of Physics 22.4 (2020): 045003.](https://iopscience.iop.org/article/10.1088/1367-2630/ab7771/meta)\n",
        "\n",
        "\n",
        "\n",
        "2. [F.W., Duality in generalized Ising models and phase transitions without local order parameter, J. Math. Phys. 12 (1971) 2259](https://aip.scitation.org/doi/abs/10.1063/1.1665530)"
      ],
      "id": "pBMZq1h20cw8"
    },
    {
      "cell_type": "code",
      "execution_count": null,
      "metadata": {
        "id": "_izAB-6V0cw8"
      },
      "outputs": [],
      "source": [
        "# Helper Libraries\n",
        "import numpy as np\n",
        "import matplotlib.pyplot as plt\n",
        "import matplotlib\n",
        "\n",
        "# Machine learning related libraries:\n",
        "import torch\n",
        "import torch.nn as nn            # base class used to develop all neural network models\n",
        "import torch.nn.functional as F  # module of relu activation functions\n",
        "import torch.optim as optim      # module of Adam optimizer\n",
        "# from tqdm import tqdm            # progress meter - wrap any iterable with tqdm(iterable)\n",
        "from itertools import chain      # append two range() functions\n",
        "from torch.utils.data import DataLoader # easy and organized data loading to the ML model\n",
        "from torch.utils.data import Dataset #for nice loadable dataset creation"
      ],
      "id": "_izAB-6V0cw8"
    },
    {
      "cell_type": "code",
      "execution_count": null,
      "metadata": {
        "id": "cRsZc-uC0cw9",
        "colab": {
          "base_uri": "https://localhost:8080/"
        },
        "outputId": "e62d93d6-9308-452f-e0cf-e349d044b861"
      },
      "outputs": [
        {
          "output_type": "stream",
          "name": "stdout",
          "text": [
            "Is cuda available? False\n",
            "Running on the CPU\n"
          ]
        }
      ],
      "source": [
        "####### Detect if running on the clusters  #######\n",
        "# use CUDA:\n",
        "torch.cuda.is_available()\n",
        "print(\"Is cuda available?\", torch.cuda.is_available())\n",
        "\n",
        "# set a flag\n",
        "device = torch.device(\"cuda:0\")\n",
        "\n",
        "if torch.cuda.is_available():\n",
        "    device = torch.device(\"cuda:0\")  # you can continue going on here, like cuda:1 cuda:2....etc.\n",
        "    print(\"Running on the GPU\")\n",
        "else:\n",
        "    device = torch.device(\"cpu\")\n",
        "    print(\"Running on the CPU\")"
      ],
      "id": "cRsZc-uC0cw9"
    },
    {
      "cell_type": "markdown",
      "metadata": {
        "id": "r1-zmEr10cw9"
      },
      "source": [
        "First, we load and analyze the shape of our data set again. As before, they are located in the folder `Ising` and labeled by a temperature."
      ],
      "id": "r1-zmEr10cw9"
    },
    {
      "cell_type": "markdown",
      "metadata": {
        "id": "v0Dovt_M0cw9"
      },
      "source": [
        "#### Step 1: Import data and analyze the data shape <a class=\"anchor\" id=\"Step_1\"></a>\n",
        "\n",
        "<!-- The folder `Ising` contains Monte Carlo generated Ising configurations on the two-dimensional lattice. The data set is divided into training and test parts and corresponding label files containing the temperature, $T$, of each Monte Carlo sample. -->"
      ],
      "id": "v0Dovt_M0cw9"
    },
    {
      "cell_type": "code",
      "execution_count": null,
      "metadata": {
        "id": "5c8E6Tt20cw9"
      },
      "outputs": [],
      "source": [
        "#### If you run locally by cloning the git \"MLQE_2022\":\n",
        "# directory = \"Ising\"\n",
        "\n",
        "#### If you run on colab and you clone the data in colab from git \"MLQE2022_public\":\n",
        "directory = \"mlqe2022_public/day_1/Ising\""
      ],
      "id": "5c8E6Tt20cw9"
    },
    {
      "cell_type": "code",
      "execution_count": null,
      "metadata": {
        "id": "66Sjxqzl0cw-",
        "colab": {
          "base_uri": "https://localhost:8080/"
        },
        "outputId": "848505e4-0cb0-489a-fe00-5fdd834005a9"
      },
      "outputs": [
        {
          "output_type": "stream",
          "name": "stdout",
          "text": [
            "train_images.shape = (2000, 16, 16, 2)\n",
            "train_labels.shape = (2000,)\n",
            "test_images.shape = (2000, 16, 16, 2)\n",
            "test_labels.shape = (2000,)\n"
          ]
        }
      ],
      "source": [
        "N = 16 # linear dimension of the lattice\n",
        "\n",
        "ilgt_training_configs = np.load(\"{0}/ilgt_training_configs.npy\".format(directory))\n",
        "ilgt_training_labels = np.load(\"{0}/ilgt_training_labels.npy\".format(directory))\n",
        "ilgt_test_configs = np.load(\"{0}/ilgt_test_configs.npy\".format(directory))\n",
        "ilgt_test_labels = np.load(\"{0}/ilgt_test_labels.npy\".format(directory))\n",
        "print('train_images.shape =', ilgt_training_configs.shape)\n",
        "print('train_labels.shape =', ilgt_training_labels.shape)\n",
        "print('test_images.shape =', ilgt_test_configs.shape)\n",
        "print('test_labels.shape =', ilgt_test_labels.shape)"
      ],
      "id": "66Sjxqzl0cw-"
    },
    {
      "cell_type": "code",
      "execution_count": null,
      "metadata": {
        "id": "-UM5n6Rq0cw-",
        "colab": {
          "base_uri": "https://localhost:8080/"
        },
        "outputId": "dfa4044a-bd72-4477-f50f-c7ce903a2b4b"
      },
      "outputs": [
        {
          "output_type": "stream",
          "name": "stdout",
          "text": [
            "3.7.1\n"
          ]
        }
      ],
      "source": [
        "print(matplotlib.__version__)\n",
        "\n",
        "#### note the plotting code below doesn't work for matplotlib version higher than 3.5"
      ],
      "id": "-UM5n6Rq0cw-"
    },
    {
      "cell_type": "code",
      "execution_count": null,
      "metadata": {
        "id": "qFJnzef30cw-"
      },
      "outputs": [],
      "source": [
        "def plot_igt_configuration(spins, name, dual=False, save=False):\n",
        "\n",
        "    '''\n",
        "    this is just a helper function to plot the configuration of spins  given by 'spins'\n",
        "    note that (i,j) denotes a vertex coordinate, such that the location of the plaquette\n",
        "    center is at (i+0.5, j+0.5) and thus, the x spin is at (i+1, j+0.5) etc.\n",
        "\n",
        "    Parameters\n",
        "    ----------\n",
        "    spins  :  int\n",
        "        spin configuration, dimension is NxNx2\n",
        "    dual   :  bool\n",
        "        Plot the configuration in dual space or not. Default is False.\n",
        "    '''\n",
        "    N = np.shape(spins)[0]\n",
        "    fig, ax = plt.subplots()\n",
        "    ax = fig.axes[0]\n",
        "#     spins = (2*spins-1)\n",
        "    for i in range(N+1):\n",
        "        ax.plot([i, i], [0,N], 'k')\n",
        "        ax.plot([0,N], [i,i], 'k')\n",
        "\n",
        "    if not dual:\n",
        "        colors = ['#1329A4', '#F45A11'] # note: blue is down, gold is up!\n",
        "        for i in range(N):\n",
        "            fig.gca().add_patch(plt.Circle((0,i+0.5), radius=0.2, fc=colors[int((spins[-1,2*i]+1)/2.)]))\n",
        "            fig.gca().add_patch(plt.Circle((i+0.5,0), radius=0.2, fc=colors[int((spins[i,-1]+1)/2.)]))\n",
        "            for j in range(N):\n",
        "                fig.gca().add_patch(plt.Circle((i+1,j+0.5), radius=0.2, fc=colors[int((spins[i,2*j+0]+1)/2.)]))\n",
        "                fig.gca().add_patch(plt.Circle((i+0.5,j+1), radius=0.2, fc=colors[int((spins[i,2*j+1]+1)/2.)]))\n",
        "\n",
        "    if dual:\n",
        "        excitation = []\n",
        "        for i in range(N):\n",
        "            if spins[-1, 2*i+0]==1: ax.plot([-0.5, 0.5], [i+0.5, i+0.5], '#1329A4', lw=3)\n",
        "            if spins[i, -1]==1: ax.plot([i+0.5, i+0.5], [-0.5, 0.5], '#1329A4', lw=3)\n",
        "            for j in range(N):\n",
        "                j_up = (N+j-1)%N\n",
        "                i_left = (i+N-1)%N\n",
        "                if spins[i,2*j+0]==1: ax.plot([i+0.5, i+1.5], [j+0.5, j+0.5], '#1329A4', lw=3)\n",
        "                if spins[i,2*j+1]==1: ax.plot([i+0.5, i+0.5], [j+0.5, j+1.5], '#1329A4', lw=3)\n",
        "                if spins[i,2*j+0]*spins[i_left, 2*j+0]*spins[i,2*j+1]*spins[i,2*j_up+1]==-1: excitation.append([i+0.5,j+0.5])\n",
        "        if len(excitation)>0: plt.scatter(np.array(excitation)[:,0], np.array(excitation)[:,1], color='#F45A11', s=150, marker=(5,1))\n",
        "    ax.set_ylim(-1,N+1)\n",
        "    ax.set_xlim(-1,N+1)\n",
        "    ax.set_aspect('equal')\n",
        "    plt.xlabel(\"x\")\n",
        "    plt.ylabel(\"y\")\n",
        "    plt.axis('off')\n",
        "    plt.tight_layout()\n",
        "    if save:\n",
        "        plt.savefig(\"configuration_\" + name +\".pdf\")"
      ],
      "id": "qFJnzef30cw-"
    },
    {
      "cell_type": "code",
      "execution_count": null,
      "metadata": {
        "id": "r_X4TqNM0cw_",
        "colab": {
          "base_uri": "https://localhost:8080/",
          "height": 957
        },
        "outputId": "33ad48d0-5c51-4598-8d8c-f4a73ba25eea"
      },
      "outputs": [
        {
          "output_type": "display_data",
          "data": {
            "text/plain": [
              "<Figure size 640x480 with 1 Axes>"
            ],
            "image/png": "[encoded data removed]"
          },
          "metadata": {}
        },
        {
          "output_type": "display_data",
          "data": {
            "text/plain": [
              "<Figure size 640x480 with 1 Axes>"
            ],
            "image/png": "[encoded data removed]"
          },
          "metadata": {}
        }
      ],
      "source": [
        "# reshape data to flatten the two sublattices\n",
        "N = ilgt_training_configs[0].shape[0]\n",
        "spins = np.reshape(ilgt_training_configs[0],[N,2*N])\n",
        "\n",
        "#plt configuration\n",
        "plot_igt_configuration(spins,'igt0')\n",
        "\n",
        "#plot the dua mapping\n",
        "plot_igt_configuration(spins,'igt0_dual',dual=True)\n",
        "#ax1.set_title(\"T={:1.2f}\".format(ising_training_labels[250]))\n",
        "#ax1.title.set_position((0.5,-0.1))"
      ],
      "id": "r_X4TqNM0cw_"
    },
    {
      "cell_type": "markdown",
      "metadata": {
        "id": "3YrWFG2C0cw_"
      },
      "source": [
        "#### Step 2. Dense Neural Network <a class=\"anchor\" id=\"Step_2\"></a>"
      ],
      "id": "3YrWFG2C0cw_"
    },
    {
      "cell_type": "markdown",
      "metadata": {
        "id": "2WQhrQmn0cxA"
      },
      "source": [
        "##### Step 2.1 Data pre-processing <a class=\"anchor\" id=\"Step_2_1\"></a>"
      ],
      "id": "2WQhrQmn0cxA"
    },
    {
      "cell_type": "code",
      "execution_count": null,
      "metadata": {
        "id": "KOo4RWnh0cxA",
        "colab": {
          "base_uri": "https://localhost:8080/"
        },
        "outputId": "78d121c0-0358-42dd-8d16-6ec54533cf2e"
      },
      "outputs": [
        {
          "output_type": "stream",
          "name": "stderr",
          "text": [
            "<ipython-input-14-23972e1bbdc9>:45: UserWarning: Creating a tensor from a list of numpy.ndarrays is extremely slow. Please consider converting the list to a single numpy.ndarray with numpy.array() before converting to a tensor. (Triggered internally at ../torch/csrc/utils/tensor_new.cpp:275.)\n",
            "  train_X_ilgt = torch.Tensor([i[0] for i in training_data_ilgt])\n"
          ]
        },
        {
          "output_type": "stream",
          "name": "stdout",
          "text": [
            "len(train_X_ilgt), len(test_X_ilgt) is  2000 2000\n"
          ]
        }
      ],
      "source": [
        "### Combine the configuration with their labels:\n",
        "NUM_TRAINING = len(ilgt_training_labels)    # number of training samples\n",
        "NUM_TEST = len(ilgt_test_labels)    # number of test samples\n",
        "\n",
        "REBUILD_DATA = True # set to true to one once, then back to false unless you want to change something in your training data.\n",
        "\n",
        "class datafunc_ilgtConfig():\n",
        "    # Class that handles the raw data\n",
        "    def __init__(self, NUM_TRAINING, NUM_TEST):\n",
        "        #we input the number of training and test samples when initializing the class\n",
        "        self.NUM_TRAINING = NUM_TRAINING\n",
        "        self.NUM_TEST = NUM_TEST\n",
        "        # creat the list that combine the label and ising configurations\n",
        "        # empty list, will populate data and labels later on\n",
        "        self.training_data = []\n",
        "        self.test_data = []\n",
        "\n",
        "    def make_training_data(self):\n",
        "        for i in range(self.NUM_TRAINING): # for each sample\n",
        "            self.training_data.append([ilgt_training_configs[i], ilgt_training_labels[i]]) # combine the config and the phase label\n",
        "            # uncomment the below if you want your data to be flattened\n",
        "            # self.training_data.append([ilgt_training_configs[i].flatten(),ilgt_training_labels[i]]) # combine the config and the phase label\n",
        "        np.random.shuffle(self.training_data)\n",
        "        np.save(\"{}/training_data_ilgt.npy\".format(directory), np.array(self.training_data, dtype=object))\n",
        "\n",
        "    def make_test_data(self):\n",
        "        for i in range(self.NUM_TEST): # for each sample\n",
        "            self.test_data.append([ilgt_test_configs[i], ilgt_test_labels[i]]) # combine the config and the phase label\n",
        "            # uncomment the below if you want your data to be flattened\n",
        "            # self.test_data.append([ilgt_test_configs[i].flatten(),ilgt_test_labels[i]]) # combine the config and the phase label\n",
        "        np.random.shuffle(self.test_data)\n",
        "        np.save(\"{}/test_data_ilgt.npy\".format(directory), np.array(self.test_data, dtype=object))\n",
        "\n",
        "if REBUILD_DATA:\n",
        "    dataclass_ilgtConfig =  datafunc_ilgtConfig(NUM_TRAINING, NUM_TEST)\n",
        "    dataclass_ilgtConfig.make_training_data()\n",
        "    dataclass_ilgtConfig.make_test_data()\n",
        "\n",
        "# Now we have nice loadable datafile with labels\n",
        "# load the training and test data:\n",
        "training_data_ilgt = np.load(\"{}/training_data_ilgt.npy\".format(directory), allow_pickle=True)\n",
        "test_data_ilgt = np.load(\"{}/test_data_ilgt.npy\".format(directory), allow_pickle=True)\n",
        "\n",
        "# make them torch tensor\n",
        "train_X_ilgt = torch.Tensor([i[0] for i in training_data_ilgt])\n",
        "train_y_ilgt = torch.Tensor([i[1] for i in training_data_ilgt])\n",
        "\n",
        "test_X_ilgt = torch.Tensor([i[0] for i in test_data_ilgt])\n",
        "test_y_ilgt = torch.Tensor([i[1] for i in test_data_ilgt])\n",
        "\n",
        "print(\"len(train_X_ilgt), len(test_X_ilgt) is \", len(train_X_ilgt), len(test_X_ilgt))\n",
        "\n",
        "class CustomDataset(Dataset):\n",
        "    def __init__(self, data, labels):\n",
        "        # we pass data and labels when we initialize the class\n",
        "        self.data = data\n",
        "        self.labels = labels\n",
        "\n",
        "    def __len__(self):\n",
        "        # function that outputs length of dataset\n",
        "        return len(self.data)\n",
        "\n",
        "    def __getitem__(self, idx):\n",
        "        # function that outputs data item with index idx\n",
        "        # return data, label\n",
        "        data_idx = self.data[idx]\n",
        "        label = self.labels[idx].type(torch.LongTensor) # label must be output as datatype=Long (also known as int64)\n",
        "        # note: if you run into error when loading the class, try:\n",
        "        # label = self.labels[idx][0].type(torch.LongTensor)   #### works for PyTorch 0.4.1.\n",
        "        # label = self.labels[idx].type(torch.LongTensor)      #### works for PyTorch>=0.5.\n",
        "        return data_idx, label\n",
        "\n",
        "# apply CustomDataset() to training dataset\n",
        "train_dataset_class = CustomDataset(train_X_ilgt, train_y_ilgt)\n",
        "# apply CustomDataset() to test dataset\n",
        "test_dataset_class = CustomDataset(test_X_ilgt, test_y_ilgt)\n",
        "\n",
        "# we pass the dataset as an argument to DataLoader -> automatic batching, sampling, shuffling etc.\n",
        "batch_size = 32\n",
        "\n",
        "# create data loaders\n",
        "train_dataloader = DataLoader(train_dataset_class, batch_size = batch_size)\n",
        "test_dataloader = DataLoader(test_dataset_class, batch_size = batch_size)"
      ],
      "id": "KOo4RWnh0cxA"
    },
    {
      "cell_type": "code",
      "execution_count": null,
      "metadata": {
        "id": "Tg0aHtmY0cxB",
        "colab": {
          "base_uri": "https://localhost:8080/"
        },
        "outputId": "84390e30-83a0-493a-dfc3-69511157f431"
      },
      "outputs": [
        {
          "output_type": "stream",
          "name": "stdout",
          "text": [
            "Shape of X: torch.Size([32, 16, 16, 2]) torch.float32\n",
            "Shape of y: torch.Size([32]) torch.int64\n"
          ]
        }
      ],
      "source": [
        "# check that the dataloader works correctly and give the right shape and type\n",
        "for X, y in train_dataloader:\n",
        "    print(f\"Shape of X: {X.shape} {X.dtype}\")\n",
        "    print(f\"Shape of y: {y.shape} {y.dtype}\")\n",
        "    # print(X)\n",
        "    # print(y)\n",
        "    break"
      ],
      "id": "Tg0aHtmY0cxB"
    },
    {
      "cell_type": "markdown",
      "metadata": {
        "id": "E-NCvGe70cxB"
      },
      "source": [
        "##### Step 2.2 Exercise: Build the DNN <a class=\"anchor\" id=\"Step_2_2\"></a>\n",
        "\n",
        "In the previous Notebook, we showed how to build a Dense Neural Network.\n",
        "\n",
        "__Your task__: build a Neural Network that takes as input a configuration and return a binary output: a class for ground state and the other for excited states.\n",
        "\n",
        "Steps:\n",
        "- Start create a *Dense_Net* class, that receives as input the torch class \"nn.Module\";\n",
        "- inside this class, define a *_ _init_ _* function, in which the layers of the NN are definied:\n",
        "    - use a \"nn.Flatten( )\" layer to flatten the images to a 1-dimensional array,\n",
        "    - define *linear_relu_stack*, using \"nn.Sequential( )\", made of a sequence of \"nn.Linear( )\" layers and \"nn.ReLU( )\" for activation functions (pay attention to specificy the input dimension of the first layer as the  dimension of a flattened configuration image, and the last layer dimension equals to the number of classes of the problem);\n",
        "- then, define a *forward* function, which uses the layers defined in *_ _ init_ _* to determine how the data will flow through the network."
      ],
      "id": "E-NCvGe70cxB"
    },
    {
      "cell_type": "code",
      "execution_count": null,
      "metadata": {
        "id": "qM2wakRE0cxB",
        "colab": {
          "base_uri": "https://localhost:8080/",
          "height": 207
        },
        "outputId": "e4b01324-faab-4a2d-9b58-4cc2f476777d"
      },
      "outputs": [
        {
          "output_type": "error",
          "ename": "NameError",
          "evalue": "name 'Dense_Net' is not defined",
          "traceback": [
            "\u001b[0;31m---------------------------------------------------------------------------\u001b[0m",
            "\u001b[0;31mNameError\u001b[0m                                 Traceback (most recent call last)",
            "\u001b[0;32m<ipython-input-16-2e377ec915b5>\u001b[0m in \u001b[0;36m<cell line: 13>\u001b[0;34m()\u001b[0m\n\u001b[1;32m     11\u001b[0m \u001b[0;34m\u001b[0m\u001b[0m\n\u001b[1;32m     12\u001b[0m \u001b[0;31m# here we initialize an instance of the class\u001b[0m\u001b[0;34m\u001b[0m\u001b[0;34m\u001b[0m\u001b[0m\n\u001b[0;32m---> 13\u001b[0;31m \u001b[0mdense_model\u001b[0m \u001b[0;34m=\u001b[0m \u001b[0mDense_Net\u001b[0m\u001b[0;34m(\u001b[0m\u001b[0;34m)\u001b[0m\u001b[0;34m.\u001b[0m\u001b[0mto\u001b[0m\u001b[0;34m(\u001b[0m\u001b[0mdevice\u001b[0m\u001b[0;34m)\u001b[0m\u001b[0;34m\u001b[0m\u001b[0;34m\u001b[0m\u001b[0m\n\u001b[0m\u001b[1;32m     14\u001b[0m \u001b[0mprint\u001b[0m\u001b[0;34m(\u001b[0m\u001b[0mdense_model\u001b[0m\u001b[0;34m)\u001b[0m\u001b[0;34m\u001b[0m\u001b[0;34m\u001b[0m\u001b[0m\n\u001b[1;32m     15\u001b[0m \u001b[0;31m# print the number of trainable parameters\u001b[0m\u001b[0;34m\u001b[0m\u001b[0;34m\u001b[0m\u001b[0m\n",
            "\u001b[0;31mNameError\u001b[0m: name 'Dense_Net' is not defined"
          ]
        }
      ],
      "source": [
        "###Let's build this dense neural network (DNN)!\n",
        "### We want (for start) a DNN which takes an input of certain shape\n",
        "### then let's go with hidden layer of 100 neurons and ReLU\n",
        "### then output layer (# of neurons = # of classes in the problem)\n",
        "\n",
        "\n",
        "### YOUR CODE HERE:\n",
        "\n",
        "\n",
        "\n",
        "\n",
        "# here we initialize an instance of the class\n",
        "dense_model = Dense_Net().to(device)\n",
        "print(dense_model)\n",
        "# print the number of trainable parameters\n",
        "pytorch_total_params = sum(p.numel() for p in dense_model.parameters())\n",
        "print(pytorch_total_params)"
      ],
      "id": "qM2wakRE0cxB"
    },
    {
      "cell_type": "markdown",
      "metadata": {
        "id": "mKQAvFBG0cxC"
      },
      "source": [
        "##### Step 2.3 Training and testing <a class=\"anchor\" id=\"Step_2_3\"></a>"
      ],
      "id": "mKQAvFBG0cxC"
    },
    {
      "cell_type": "code",
      "execution_count": null,
      "metadata": {
        "id": "aL025zA90cxC"
      },
      "outputs": [],
      "source": [
        "# Compile the model with an Adam optimiser\n",
        "# Take Cross Entropy as a loss function\n",
        "loss_fn_dnn = nn.CrossEntropyLoss()\n",
        "optimizer_dnn = torch.optim.Adam(dense_model.parameters(), lr=1e-3)\n",
        "\n",
        "# define the train and test loss accumulation\n",
        "train_loss_dnn = []\n",
        "train_acc_dnn = []\n",
        "test_loss_dnn = []\n",
        "test_acc_dnn = []"
      ],
      "id": "aL025zA90cxC"
    },
    {
      "cell_type": "code",
      "execution_count": null,
      "metadata": {
        "id": "OzxqvIr10cxC"
      },
      "outputs": [],
      "source": [
        "# define training function: make predicition on data set batch,\n",
        "# backpropagate the error and adjust model parameters\n",
        "\n",
        "def train(dataloader, model, loss_fn, optimizer, train_loss, train_acc):\n",
        "    num_batches = len(dataloader)\n",
        "    size = len(dataloader.dataset)\n",
        "    model.train()\n",
        "    running_loss, correct = 0, 0\n",
        "    for batch, (X, y) in enumerate(dataloader):\n",
        "        X, y = X.to(device), y.to(device)\n",
        "\n",
        "        #compute prediction error\n",
        "        pred = model(X)\n",
        "        loss = loss_fn(pred,y)\n",
        "\n",
        "        #Backpropagation\n",
        "        optimizer.zero_grad()\n",
        "        loss.backward()\n",
        "        optimizer.step()\n",
        "\n",
        "        # collect the accuracy:\n",
        "        running_loss += loss.item()\n",
        "        correct += (pred.argmax(1)==y).type(torch.float).sum().item()\n",
        "\n",
        "        if batch % 25==0:\n",
        "            loss,current = loss.item(), batch*len(X)\n",
        "            print(f\"loss: {loss:>7f} [{current:>5d}/{size:>5d}]\")\n",
        "    running_loss /= num_batches\n",
        "    correct /= size\n",
        "\n",
        "    train_acc.append(correct)\n",
        "    train_loss.append(running_loss)\n",
        "\n",
        "#check performance against the test data set\n",
        "def test(dataloader,model,loss_fn,test_loss, test_acc):\n",
        "    size = len(dataloader.dataset)\n",
        "    num_batches = len(dataloader)\n",
        "    model.eval()\n",
        "    running_loss, correct = 0, 0\n",
        "    with torch.no_grad():\n",
        "        for X,y in dataloader:\n",
        "            X,y = X.to(device), y.to(device)\n",
        "            pred = model(X)\n",
        "            running_loss += loss_fn(pred, y).item()\n",
        "            correct += (pred.argmax(1)==y).type(torch.float).sum().item()\n",
        "    running_loss /= num_batches\n",
        "    correct /= size\n",
        "\n",
        "    test_acc.append(correct)\n",
        "    test_loss.append(running_loss)\n",
        "    print(f\"Test Error: \\n Accuracy {(100*correct):>0.1f}%, Avg loss:{running_loss:>8f}\\n\")"
      ],
      "id": "OzxqvIr10cxC"
    },
    {
      "cell_type": "code",
      "execution_count": null,
      "metadata": {
        "id": "uVzGOIjl0cxD"
      },
      "outputs": [],
      "source": [
        "# train the DNN only\n",
        "epochs = 25\n",
        "\n",
        "for t in range(epochs):\n",
        "    print(f\"Epoch {t+1}\\n -------------------\")\n",
        "    train(train_dataloader,dense_model,loss_fn_dnn,optimizer_dnn, train_loss_dnn, train_acc_dnn)\n",
        "    test(test_dataloader,dense_model,loss_fn_dnn, test_loss_dnn, test_acc_dnn)\n",
        "print(\"Done!\")"
      ],
      "id": "uVzGOIjl0cxD"
    },
    {
      "cell_type": "code",
      "execution_count": null,
      "metadata": {
        "id": "YzFfuRi-0cxD"
      },
      "outputs": [],
      "source": [
        "def create_acc_loss_graph(train_acc,train_loss, test_acc, test_loss):\n",
        "    fig, axes = plt.subplots(ncols=2, nrows=1, dpi=300)\n",
        "    fig.set_size_inches(9, 3)\n",
        "    ax1, ax2 = axes[0], axes[1]\n",
        "\n",
        "    ax1.plot(train_acc,'-o',label=\"train\", markersize=4)\n",
        "    ax1.plot(test_acc,'--+',label=\"test\", markersize=4)\n",
        "    ax1.set_xlabel('Epoch')\n",
        "    ax1.set_ylabel('Accuracy')\n",
        "    ax1.legend(loc=2)\n",
        "\n",
        "    ax2.plot(train_loss,'-o',label=\"train\", markersize=4)\n",
        "    ax2.plot(test_loss,'--+',label=\" test\", markersize=4)\n",
        "    ax2.set_xlabel('Epoch')\n",
        "    ax2.set_ylabel('Loss')\n",
        "    ax2.legend(loc=2)\n",
        "\n",
        "    #plot parameters\n",
        "    ax1.set_ylim(0, 1.25)\n",
        "#     ax2.set_ylim(0, 1.25)\n",
        "    ax2.set_ylim(-0.1, np.max([np.max(train_loss),np.max(test_loss)])+0.2)\n",
        "    ax1.grid(True, which='both',linewidth=0.1)\n",
        "    ax2.grid(True, which='both',linewidth=0.1)\n",
        "    plt.tight_layout()\n",
        "    plt.show()"
      ],
      "id": "YzFfuRi-0cxD"
    },
    {
      "cell_type": "code",
      "execution_count": null,
      "metadata": {
        "id": "wxu0ylrr0cxE"
      },
      "outputs": [],
      "source": [
        "create_acc_loss_graph(train_acc_dnn,train_loss_dnn, test_acc_dnn, test_loss_dnn)"
      ],
      "id": "wxu0ylrr0cxE"
    },
    {
      "cell_type": "markdown",
      "metadata": {
        "id": "Ph6AbXzT0cxE"
      },
      "source": [
        "#### Step 3. Convolutional Neural Network <a class=\"anchor\" id=\"Step_3\"></a>"
      ],
      "id": "Ph6AbXzT0cxE"
    },
    {
      "cell_type": "markdown",
      "metadata": {
        "id": "XlXgV0240cxE"
      },
      "source": [
        "We have introduced here a new layer. Lets briefly understand what each layer does.\n",
        "\n",
        "1.  **Convolutional**: This layer applies 32 kernels of size 2 by 2 over the input image. There are 2 paddings one can choose from 'valid' or 'same'. For our purpose, we need periodic boundary conditions and we thus use 'Valid', which means it does not add additional 'pixels' around the configuration. We instead add the padding ourselves (see below).\n",
        "```\n",
        "torch.nn.Conv2d(in_channels = 2, out_channels = 16, kernel_size = 2, stride=1)\n",
        "```\n",
        "\n",
        "\n",
        "\n",
        "\n",
        "For more information about layer check out the PyTorch documentation: https://pytorch.org/docs/stable/nn\n",
        "\n",
        "\n",
        "One final note on the input shape: While for the (first) dense layer we can define just about any shape, the input shape for the convolutional layer is necessarily N x M x C, where C is the number of channels. If the input available has only a single channel, i.e., its shape is N x M, an additional axis with dimension 1 needs to be added for it to work."
      ],
      "id": "XlXgV0240cxE"
    },
    {
      "cell_type": "markdown",
      "metadata": {
        "id": "Z1Im4P8j0cxF"
      },
      "source": [
        "Animation: What convolutional layers do?\n",
        "\n",
        "![Alt Text](https://miro.medium.com/max/789/0*jLoqqFsO-52KHTn9.gif)\n",
        "\n",
        "The yellow matrix is called a kernel, and its size is one of the hyperparameters. It moves around the green (input) image with step defined by `stride` (here = 1), and how it behaves at the edges of the image is called `padding`. The resulting convolved image is an input to a next layer.\n",
        "\n",
        "Note that the convolution is performed simultaneously for each channel of the input image, e.g. a color image has C=3 channels, RGB: Red, Green, and Blue. The filters are set to have odd size for practical purpose CxFxF, e.g, 3x3x3, 3x5x5. The output of this operation is one scalar value, an artificial neuron. An illustrative animation for the convolution layer is given in http://cs231n.github.io/convolutional-networks/#conv.\n",
        "![Alt Text](https://miro.medium.com/max/1100/1*qtinjiZct2w7Dr4XoFixnA.gif)\n"
      ],
      "id": "Z1Im4P8j0cxF"
    },
    {
      "cell_type": "markdown",
      "metadata": {
        "id": "mRV2jIsg0cxF"
      },
      "source": [
        "##### Step 3.1 Data pre-processing: manually adding periodic paddings <a class=\"anchor\" id=\"Step_3_1\"></a>"
      ],
      "id": "mRV2jIsg0cxF"
    },
    {
      "cell_type": "code",
      "execution_count": null,
      "metadata": {
        "id": "TfYh5JGM0cxF"
      },
      "outputs": [],
      "source": [
        "kernel_size  = 2\n",
        "def create_periodic_padding(configs, kernel_size):\n",
        "    N = np.shape(configs)[1]\n",
        "    padding = kernel_size-1\n",
        "    x = []\n",
        "    for config in configs:\n",
        "        padded = np.zeros((N+2*padding, N+2*padding, 2))\n",
        "        # lower left corner\n",
        "        padded[:padding,:padding, :] = config[N-padding:,N-padding:,:]\n",
        "        # lower middle\n",
        "        padded[padding:N+padding, :padding, :] = config[:,N-padding:,:]\n",
        "        # lower right corner\n",
        "        padded[N+padding:, :padding, :] = config[:padding, N-padding:, :]\n",
        "        # left side\n",
        "        padded[:padding, padding:N+padding, :] = config[N-padding:, :, :]\n",
        "        # center\n",
        "        padded[padding:N+padding, padding:N+padding, :] = config[:,:,:]\n",
        "        # right side\n",
        "        padded[N+padding:, padding:N+padding, :] = config[:padding, :, :]\n",
        "        # top left corner\n",
        "        padded[:padding, N+padding:,:] = config[N-padding:, :padding, :]\n",
        "        # top middle\n",
        "        padded[padding:N+padding, N+padding:, :] = config[:, :padding, :]\n",
        "        # top right corner\n",
        "        padded[N+padding:, N+padding:, :] = config[:padding, :padding, :]\n",
        "        x.append(padded)\n",
        "    return np.array(x)"
      ],
      "id": "TfYh5JGM0cxF"
    },
    {
      "cell_type": "code",
      "execution_count": null,
      "metadata": {
        "id": "8-L4DZDr0cxF"
      },
      "outputs": [],
      "source": [
        "# add periodic padding:\n",
        "kernel_size = 2\n",
        "ilgt_training_configs_pad = create_periodic_padding(ilgt_training_configs,kernel_size)\n",
        "ilgt_test_configs_pad = create_periodic_padding(ilgt_test_configs, kernel_size)"
      ],
      "id": "8-L4DZDr0cxF"
    },
    {
      "cell_type": "code",
      "execution_count": null,
      "metadata": {
        "id": "7qVwQ3Rb0cxG",
        "colab": {
          "base_uri": "https://localhost:8080/"
        },
        "outputId": "db1c0c73-cd99-40a2-ae84-1c69f2f9e8b4"
      },
      "outputs": [
        {
          "output_type": "stream",
          "name": "stdout",
          "text": [
            "len(train_X_ilgt_pad), len(test_X_ilgt_pad) is  2000 2000\n"
          ]
        }
      ],
      "source": [
        "NUM_TRAINING = len(ilgt_training_labels)    # number of training samples\n",
        "NUM_TEST = len(ilgt_test_labels)    # number of test samples\n",
        "\n",
        "REBUILD_DATA = True # set to true to one once, then back to false unless you want to change something in your training data.\n",
        "\n",
        "class datafunc_ilgtConfig_pad():\n",
        "    # Class that handles the raw data\n",
        "    def __init__(self, NUM_TRAINING, NUM_TEST):\n",
        "        #we input the number of training and test samples when initializing the class\n",
        "        self.NUM_TRAINING = NUM_TRAINING\n",
        "        self.NUM_TEST = NUM_TEST\n",
        "        # creat the list that combine the label and ising configurations\n",
        "        # empty list, will populate data and labels later on\n",
        "        self.training_data = []\n",
        "        self.test_data = []\n",
        "\n",
        "    def make_training_data(self):\n",
        "        for i in range(self.NUM_TRAINING): # for each sample\n",
        "            config = ilgt_training_configs_pad[i]\n",
        "            config_sawp_dim = np.einsum('ijk->kji', config)\n",
        "            #####  np.einsum() change the dimension of a from a(i,j,k) to a(k,i,j)\n",
        "            self.training_data.append([config_sawp_dim, ilgt_training_labels[i]]) # combine the config and the phase label\n",
        "\n",
        "        np.random.shuffle(self.training_data)\n",
        "        np.save(\"{}/training_data_ilgt_pad.npy\".format(directory), np.array(self.training_data, dtype=object))\n",
        "\n",
        "    def make_test_data(self):\n",
        "        for i in range(self.NUM_TEST): # for each sample\n",
        "            config = ilgt_test_configs_pad[i]\n",
        "            config_sawp_dim = np.einsum('ijk->kji', config)\n",
        "            #####  np.einsum() change the dimension of a from a(i,j,k) to a(k,i,j)\n",
        "            self.test_data.append([config_sawp_dim, ilgt_test_labels[i]]) # combine the config and the phase label\n",
        "        np.random.shuffle(self.test_data)\n",
        "        np.save(\"{}/test_data_ilgt_pad.npy\".format(directory), np.array(self.test_data, dtype=object))\n",
        "\n",
        "if REBUILD_DATA:\n",
        "    dataclass_ilgtConfig_pad = datafunc_ilgtConfig_pad(NUM_TRAINING, NUM_TEST)\n",
        "    dataclass_ilgtConfig_pad.make_training_data()\n",
        "    dataclass_ilgtConfig_pad.make_test_data()\n",
        "\n",
        "# ############################################\n",
        "# load the training and test data:\n",
        "training_data_ilgt_pad = np.load(\"{}/training_data_ilgt_pad.npy\".format(directory), allow_pickle=True)\n",
        "test_data_ilgt_pad = np.load(\"{}/test_data_ilgt_pad.npy\".format(directory), allow_pickle=True)\n",
        "\n",
        "# make them torch tensor\n",
        "train_X_ilgt_pad = torch.Tensor([i[0] for i in training_data_ilgt_pad])\n",
        "train_y_ilgt_pad = torch.Tensor([i[1] for i in training_data_ilgt_pad])\n",
        "\n",
        "test_X_ilgt_pad = torch.Tensor([i[0] for i in test_data_ilgt_pad])\n",
        "test_y_ilgt_pad = torch.Tensor([i[1] for i in test_data_ilgt_pad])\n",
        "\n",
        "print(\"len(train_X_ilgt_pad), len(test_X_ilgt_pad) is \", len(train_X_ilgt_pad), len(test_X_ilgt_pad))\n",
        "\n",
        "# apply CustomDataset() to training dataset\n",
        "train_dataset_pad_class = CustomDataset(train_X_ilgt_pad, train_y_ilgt_pad)\n",
        "# apply CustomDataset() to test dataset\n",
        "test_dataset_pad_class = CustomDataset(test_X_ilgt_pad, test_y_ilgt_pad)\n",
        "\n",
        "# we pass the dataset as an argument to DataLoader -> automatic batching, sampling, shuffling etc.\n",
        "batch_size = 32\n",
        "\n",
        "# create data loaders\n",
        "train_dataloader_pad = DataLoader(train_dataset_pad_class, batch_size = batch_size)\n",
        "test_dataloader_pad = DataLoader(test_dataset_pad_class, batch_size = batch_size)"
      ],
      "id": "7qVwQ3Rb0cxG"
    },
    {
      "cell_type": "markdown",
      "metadata": {
        "id": "uaGpfU5e0cxG"
      },
      "source": [
        "##### Step 3.2 Build the CNN <a class=\"anchor\" id=\"Step_3_2\"></a>"
      ],
      "id": "uaGpfU5e0cxG"
    },
    {
      "cell_type": "code",
      "execution_count": null,
      "metadata": {
        "id": "29a3c585",
        "colab": {
          "base_uri": "https://localhost:8080/"
        },
        "outputId": "34fc242c-e5eb-4158-a6c5-45b9a1090873"
      },
      "outputs": [
        {
          "output_type": "stream",
          "name": "stdout",
          "text": [
            "Conv_Net(\n",
            "  (conv1): Conv2d(2, 8, kernel_size=(2, 2), stride=(1, 1))\n",
            "  (flatten): Flatten(start_dim=1, end_dim=-1)\n",
            "  (fc1): Linear(in_features=2312, out_features=8, bias=True)\n",
            "  (fc2): Linear(in_features=8, out_features=2, bias=True)\n",
            ")\n",
            "18594\n"
          ]
        }
      ],
      "source": [
        "class Conv_Net(nn.Module):\n",
        "    def __init__(self):\n",
        "        super(Conv_Net, self).__init__()\n",
        "        self.conv1 = nn.Conv2d(in_channels=2, out_channels=8, kernel_size=2, stride=1)\n",
        "        self.flatten = nn.Flatten()\n",
        "        self.fc1 = nn.Linear(2312, 8)\n",
        "        # question for students: how do we know the number 2312?\n",
        "        self.fc2 = nn.Linear(8, 2)\n",
        "\n",
        "    # x represents our data\n",
        "    def forward(self, x):\n",
        "        # Pass data through conv1\n",
        "        x = self.conv1(x)\n",
        "        x = F.relu(x) # Use the rectified-linear activation function over x\n",
        "        x = torch.flatten(x, 1) # Flatten x with start_dim=1\n",
        "        x = self.fc1(x) # Pass data through fc1\n",
        "        x = F.relu(x)\n",
        "        x = self.fc2(x) # Pass data through fc1\n",
        "        output = x\n",
        "        return output\n",
        "\n",
        "conv_model = Conv_Net().to(device)\n",
        "print(conv_model)\n",
        "\n",
        "# print the number of trainable parameters\n",
        "pytorch_total_params = sum(p.numel() for p in conv_model.parameters())\n",
        "print(pytorch_total_params)"
      ],
      "id": "29a3c585"
    },
    {
      "cell_type": "markdown",
      "metadata": {
        "id": "u51-KIyU0cxH"
      },
      "source": [
        "- How to check the out put size of a conv layer?\n",
        "\n",
        "- you can use this formula $[(W−K+2P)/S]+1$.\n",
        "    - $W$ is the input size\n",
        "    - $K$ is the Kernel size\n",
        "    - $P$ is the padding\n",
        "    - $S$ is the stride"
      ],
      "id": "u51-KIyU0cxH"
    },
    {
      "cell_type": "code",
      "source": [
        "\n",
        "w=18\n",
        "k=2\n",
        "p=0\n",
        "s=1\n",
        "outsize=(w-k+2*p)/s+1"
      ],
      "metadata": {
        "id": "wtUx5jW37WxR"
      },
      "id": "wtUx5jW37WxR",
      "execution_count": null,
      "outputs": []
    },
    {
      "cell_type": "code",
      "source": [
        "out_channel = 8\n",
        "outsize*outsize*out_channel"
      ],
      "metadata": {
        "colab": {
          "base_uri": "https://localhost:8080/"
        },
        "id": "v4zecSvW7ZaX",
        "outputId": "9d4fbdf3-9396-4bbd-b82a-4f0ff8ffc906"
      },
      "id": "v4zecSvW7ZaX",
      "execution_count": null,
      "outputs": [
        {
          "output_type": "execute_result",
          "data": {
            "text/plain": [
              "2312.0"
            ]
          },
          "metadata": {},
          "execution_count": 23
        }
      ]
    },
    {
      "cell_type": "code",
      "execution_count": null,
      "metadata": {
        "id": "PI5ARQev0cxH",
        "colab": {
          "base_uri": "https://localhost:8080/"
        },
        "outputId": "0008393b-bac8-4ef4-d659-7f7945054df0"
      },
      "outputs": [
        {
          "output_type": "stream",
          "name": "stdout",
          "text": [
            "2312\n"
          ]
        }
      ],
      "source": [
        "out_size = 18-2+1;\n",
        "out_channel = 8\n",
        "out_shape = out_size*out_size*out_channel;\n",
        "print(out_shape)"
      ],
      "id": "PI5ARQev0cxH"
    },
    {
      "cell_type": "code",
      "execution_count": null,
      "metadata": {
        "id": "arw9inCe0cxH",
        "colab": {
          "base_uri": "https://localhost:8080/"
        },
        "outputId": "abf23042-5f15-4c7d-fd7d-bb5b1bc50434"
      },
      "outputs": [
        {
          "output_type": "stream",
          "name": "stdout",
          "text": [
            "2312\n",
            "torch.Size([1, 8, 17, 17])\n"
          ]
        }
      ],
      "source": [
        "# you can use a random tensor to print the out put size of a convelutional layer\n",
        "# as the sanity check\n",
        "\n",
        "random_data = torch.rand((1,2, 18, 18))\n",
        "my_nn = nn.Conv2d(2, 8, 2, 1)\n",
        "result = my_nn(random_data)\n",
        "print(len(result.flatten()))\n",
        "print(result.shape)"
      ],
      "id": "arw9inCe0cxH"
    },
    {
      "cell_type": "markdown",
      "metadata": {
        "id": "voSxeb-h0cxH"
      },
      "source": [
        "##### Step 3.3 Training and testing <a class=\"anchor\" id=\"Step_3_3\"></a>"
      ],
      "id": "voSxeb-h0cxH"
    },
    {
      "cell_type": "code",
      "execution_count": null,
      "metadata": {
        "id": "B4N6C9xL0cxH"
      },
      "outputs": [],
      "source": [
        "loss_fn_cnn = nn.CrossEntropyLoss()\n",
        "optimizer_cnn = torch.optim.Adam(conv_model.parameters(), lr=1e-3)\n",
        "\n",
        "train_loss_cnn = []\n",
        "train_acc_cnn = []\n",
        "test_loss_cnn = []\n",
        "test_acc_cnn = []"
      ],
      "id": "B4N6C9xL0cxH"
    },
    {
      "cell_type": "code",
      "execution_count": null,
      "metadata": {
        "id": "znvR3Lvq0cxI"
      },
      "outputs": [],
      "source": [
        "def train_cnn(dataloader, model, loss_fn, optimizer, train_loss, train_acc):\n",
        "    num_batches = len(dataloader)\n",
        "    size = len(dataloader.dataset)\n",
        "    model.train()\n",
        "    running_loss, correct = 0, 0\n",
        "    for batch, (X, y) in enumerate(dataloader):\n",
        "        X, y = X.to(device), y.to(device)\n",
        "\n",
        "        #compute prediction error\n",
        "        pred = model(X.view(-1, 2, 18, 18))\n",
        "        loss = loss_fn(pred,y)\n",
        "\n",
        "        #Backpropagation\n",
        "        optimizer.zero_grad()\n",
        "        loss.backward()\n",
        "        optimizer.step()\n",
        "\n",
        "        # collect the accuracy:\n",
        "        running_loss += loss.item()\n",
        "        correct += (pred.argmax(1)==y).type(torch.float).sum().item()\n",
        "\n",
        "        if batch % 25==0:\n",
        "            loss,current = loss.item(), batch*len(X)\n",
        "            print(f\"loss: {loss:>7f} [{current:>5d}/{size:>5d}]\")\n",
        "    running_loss /= num_batches\n",
        "    correct /= size\n",
        "\n",
        "    train_acc.append(correct)\n",
        "    train_loss.append(running_loss)\n",
        "\n",
        "#check performance against the test data set\n",
        "def test_cnn(dataloader,model,loss_fn,test_loss, test_acc):\n",
        "    size = len(dataloader.dataset)\n",
        "    num_batches = len(dataloader)\n",
        "    model.eval()\n",
        "    running_loss, correct = 0, 0\n",
        "    with torch.no_grad():\n",
        "        for X,y in dataloader:\n",
        "            X,y = X.to(device), y.to(device)\n",
        "            pred = model(X.view(-1, 2, 18, 18))\n",
        "            running_loss += loss_fn(pred, y).item()\n",
        "            correct += (pred.argmax(1)==y).type(torch.float).sum().item()\n",
        "    running_loss /= num_batches\n",
        "    correct /= size\n",
        "\n",
        "    test_acc.append(correct)\n",
        "    test_loss.append(running_loss)\n",
        "    print(f\"Test Error: \\n Accuracy {(100*correct):>0.1f}%, Avg loss:{running_loss:>8f}\\n\")"
      ],
      "id": "znvR3Lvq0cxI"
    },
    {
      "cell_type": "code",
      "execution_count": null,
      "metadata": {
        "id": "db2eN3eS0cxI",
        "colab": {
          "base_uri": "https://localhost:8080/"
        },
        "outputId": "d1a26032-3dd8-4cde-b92a-a9cbc48e9cf7"
      },
      "outputs": [
        {
          "output_type": "stream",
          "name": "stdout",
          "text": [
            "Epoch 1\n",
            " -------------------\n",
            "loss: 0.675492 [    0/ 2000]\n",
            "loss: 0.695052 [  800/ 2000]\n",
            "loss: 0.687846 [ 1600/ 2000]\n",
            "Test Error: \n",
            " Accuracy 50.0%, Avg loss:0.694364\n",
            "\n",
            "Epoch 2\n",
            " -------------------\n",
            "loss: 0.679163 [    0/ 2000]\n",
            "loss: 0.694148 [  800/ 2000]\n",
            "loss: 0.688897 [ 1600/ 2000]\n",
            "Test Error: \n",
            " Accuracy 50.0%, Avg loss:0.693834\n",
            "\n",
            "Epoch 3\n",
            " -------------------\n",
            "loss: 0.680591 [    0/ 2000]\n",
            "loss: 0.693061 [  800/ 2000]\n",
            "loss: 0.689313 [ 1600/ 2000]\n",
            "Test Error: \n",
            " Accuracy 50.0%, Avg loss:0.693682\n",
            "\n",
            "Epoch 4\n",
            " -------------------\n",
            "loss: 0.683738 [    0/ 2000]\n",
            "loss: 0.693521 [  800/ 2000]\n",
            "loss: 0.690355 [ 1600/ 2000]\n",
            "Test Error: \n",
            " Accuracy 50.0%, Avg loss:0.693394\n",
            "\n",
            "Epoch 5\n",
            " -------------------\n",
            "loss: 0.686417 [    0/ 2000]\n",
            "loss: 0.693311 [  800/ 2000]\n",
            "loss: 0.691187 [ 1600/ 2000]\n",
            "Test Error: \n",
            " Accuracy 50.1%, Avg loss:0.693230\n",
            "\n",
            "Epoch 6\n",
            " -------------------\n",
            "loss: 0.685218 [    0/ 2000]\n",
            "loss: 0.690410 [  800/ 2000]\n",
            "loss: 0.690750 [ 1600/ 2000]\n",
            "Test Error: \n",
            " Accuracy 50.1%, Avg loss:0.693219\n",
            "\n",
            "Epoch 7\n",
            " -------------------\n",
            "loss: 0.683453 [    0/ 2000]\n",
            "loss: 0.685789 [  800/ 2000]\n",
            "loss: 0.690080 [ 1600/ 2000]\n",
            "Test Error: \n",
            " Accuracy 50.0%, Avg loss:0.693468\n",
            "\n",
            "Epoch 8\n",
            " -------------------\n",
            "loss: 0.685833 [    0/ 2000]\n",
            "loss: 0.693288 [  800/ 2000]\n",
            "loss: 0.692002 [ 1600/ 2000]\n",
            "Test Error: \n",
            " Accuracy 53.8%, Avg loss:0.692477\n",
            "\n",
            "Epoch 9\n",
            " -------------------\n",
            "loss: 0.693605 [    0/ 2000]\n",
            "loss: 0.689360 [  800/ 2000]\n",
            "loss: 0.666536 [ 1600/ 2000]\n",
            "Test Error: \n",
            " Accuracy 51.1%, Avg loss:0.679985\n",
            "\n",
            "Epoch 10\n",
            " -------------------\n",
            "loss: 0.752992 [    0/ 2000]\n",
            "loss: 0.491225 [  800/ 2000]\n",
            "loss: 0.274874 [ 1600/ 2000]\n",
            "Test Error: \n",
            " Accuracy 94.5%, Avg loss:0.247132\n",
            "\n",
            "Epoch 11\n",
            " -------------------\n",
            "loss: 0.176491 [    0/ 2000]\n",
            "loss: 0.078674 [  800/ 2000]\n",
            "loss: 0.051247 [ 1600/ 2000]\n",
            "Test Error: \n",
            " Accuracy 98.7%, Avg loss:0.081424\n",
            "\n",
            "Epoch 12\n",
            " -------------------\n",
            "loss: 0.074009 [    0/ 2000]\n",
            "loss: 0.026551 [  800/ 2000]\n",
            "loss: 0.021798 [ 1600/ 2000]\n",
            "Test Error: \n",
            " Accuracy 99.2%, Avg loss:0.047113\n",
            "\n",
            "Epoch 13\n",
            " -------------------\n",
            "loss: 0.030895 [    0/ 2000]\n",
            "loss: 0.012863 [  800/ 2000]\n",
            "loss: 0.009570 [ 1600/ 2000]\n",
            "Test Error: \n",
            " Accuracy 99.4%, Avg loss:0.034115\n",
            "\n",
            "Epoch 14\n",
            " -------------------\n",
            "loss: 0.017213 [    0/ 2000]\n",
            "loss: 0.008568 [  800/ 2000]\n",
            "loss: 0.006225 [ 1600/ 2000]\n",
            "Test Error: \n",
            " Accuracy 99.6%, Avg loss:0.026373\n",
            "\n",
            "Epoch 15\n",
            " -------------------\n",
            "loss: 0.010695 [    0/ 2000]\n",
            "loss: 0.005998 [  800/ 2000]\n",
            "loss: 0.004419 [ 1600/ 2000]\n",
            "Test Error: \n",
            " Accuracy 99.7%, Avg loss:0.021570\n",
            "\n",
            "Epoch 16\n",
            " -------------------\n",
            "loss: 0.007377 [    0/ 2000]\n",
            "loss: 0.004717 [  800/ 2000]\n",
            "loss: 0.003292 [ 1600/ 2000]\n",
            "Test Error: \n",
            " Accuracy 99.8%, Avg loss:0.017680\n",
            "\n",
            "Epoch 17\n",
            " -------------------\n",
            "loss: 0.005033 [    0/ 2000]\n",
            "loss: 0.003984 [  800/ 2000]\n",
            "loss: 0.002560 [ 1600/ 2000]\n",
            "Test Error: \n",
            " Accuracy 99.8%, Avg loss:0.015057\n",
            "\n",
            "Epoch 18\n",
            " -------------------\n",
            "loss: 0.003642 [    0/ 2000]\n",
            "loss: 0.003296 [  800/ 2000]\n",
            "loss: 0.002080 [ 1600/ 2000]\n",
            "Test Error: \n",
            " Accuracy 99.8%, Avg loss:0.013215\n",
            "\n",
            "Epoch 19\n",
            " -------------------\n",
            "loss: 0.002778 [    0/ 2000]\n",
            "loss: 0.002701 [  800/ 2000]\n",
            "loss: 0.001744 [ 1600/ 2000]\n",
            "Test Error: \n",
            " Accuracy 99.9%, Avg loss:0.011951\n",
            "\n",
            "Epoch 20\n",
            " -------------------\n",
            "loss: 0.002254 [    0/ 2000]\n",
            "loss: 0.002247 [  800/ 2000]\n",
            "loss: 0.001494 [ 1600/ 2000]\n",
            "Test Error: \n",
            " Accuracy 99.9%, Avg loss:0.010957\n",
            "\n",
            "Epoch 21\n",
            " -------------------\n",
            "loss: 0.001895 [    0/ 2000]\n",
            "loss: 0.001900 [  800/ 2000]\n",
            "loss: 0.001287 [ 1600/ 2000]\n",
            "Test Error: \n",
            " Accuracy 99.9%, Avg loss:0.010157\n",
            "\n",
            "Epoch 22\n",
            " -------------------\n",
            "loss: 0.001630 [    0/ 2000]\n",
            "loss: 0.001637 [  800/ 2000]\n",
            "loss: 0.001125 [ 1600/ 2000]\n",
            "Test Error: \n",
            " Accuracy 99.9%, Avg loss:0.009460\n",
            "\n",
            "Epoch 23\n",
            " -------------------\n",
            "loss: 0.001417 [    0/ 2000]\n",
            "loss: 0.001427 [  800/ 2000]\n",
            "loss: 0.000988 [ 1600/ 2000]\n",
            "Test Error: \n",
            " Accuracy 99.9%, Avg loss:0.008859\n",
            "\n",
            "Epoch 24\n",
            " -------------------\n",
            "loss: 0.001244 [    0/ 2000]\n",
            "loss: 0.001259 [  800/ 2000]\n",
            "loss: 0.000873 [ 1600/ 2000]\n",
            "Test Error: \n",
            " Accuracy 99.9%, Avg loss:0.008324\n",
            "\n",
            "Epoch 25\n",
            " -------------------\n",
            "loss: 0.001100 [    0/ 2000]\n",
            "loss: 0.001119 [  800/ 2000]\n",
            "loss: 0.000773 [ 1600/ 2000]\n",
            "Test Error: \n",
            " Accuracy 99.9%, Avg loss:0.007857\n",
            "\n",
            "Epoch 26\n",
            " -------------------\n",
            "loss: 0.000980 [    0/ 2000]\n",
            "loss: 0.001003 [  800/ 2000]\n",
            "loss: 0.000694 [ 1600/ 2000]\n",
            "Test Error: \n",
            " Accuracy 99.9%, Avg loss:0.007441\n",
            "\n",
            "Epoch 27\n",
            " -------------------\n",
            "loss: 0.000880 [    0/ 2000]\n",
            "loss: 0.000904 [  800/ 2000]\n",
            "loss: 0.000623 [ 1600/ 2000]\n",
            "Test Error: \n",
            " Accuracy 99.9%, Avg loss:0.007072\n",
            "\n",
            "Epoch 28\n",
            " -------------------\n",
            "loss: 0.000794 [    0/ 2000]\n",
            "loss: 0.000819 [  800/ 2000]\n",
            "loss: 0.000563 [ 1600/ 2000]\n",
            "Test Error: \n",
            " Accuracy 99.9%, Avg loss:0.006737\n",
            "\n",
            "Epoch 29\n",
            " -------------------\n",
            "loss: 0.000720 [    0/ 2000]\n",
            "loss: 0.000746 [  800/ 2000]\n",
            "loss: 0.000512 [ 1600/ 2000]\n",
            "Test Error: \n",
            " Accuracy 99.9%, Avg loss:0.006432\n",
            "\n",
            "Epoch 30\n",
            " -------------------\n",
            "loss: 0.000655 [    0/ 2000]\n",
            "loss: 0.000681 [  800/ 2000]\n",
            "loss: 0.000466 [ 1600/ 2000]\n",
            "Test Error: \n",
            " Accuracy 99.9%, Avg loss:0.006152\n",
            "\n",
            "Epoch 31\n",
            " -------------------\n",
            "loss: 0.000598 [    0/ 2000]\n",
            "loss: 0.000624 [  800/ 2000]\n",
            "loss: 0.000425 [ 1600/ 2000]\n",
            "Test Error: \n",
            " Accuracy 99.9%, Avg loss:0.005892\n",
            "\n",
            "Epoch 32\n",
            " -------------------\n",
            "loss: 0.000548 [    0/ 2000]\n",
            "loss: 0.000573 [  800/ 2000]\n",
            "loss: 0.000388 [ 1600/ 2000]\n",
            "Test Error: \n",
            " Accuracy 99.9%, Avg loss:0.005654\n",
            "\n",
            "Epoch 33\n",
            " -------------------\n",
            "loss: 0.000503 [    0/ 2000]\n",
            "loss: 0.000528 [  800/ 2000]\n",
            "loss: 0.000356 [ 1600/ 2000]\n",
            "Test Error: \n",
            " Accuracy 99.9%, Avg loss:0.005435\n",
            "\n",
            "Epoch 34\n",
            " -------------------\n",
            "loss: 0.000464 [    0/ 2000]\n",
            "loss: 0.000487 [  800/ 2000]\n",
            "loss: 0.000328 [ 1600/ 2000]\n",
            "Test Error: \n",
            " Accuracy 99.9%, Avg loss:0.005232\n",
            "\n",
            "Epoch 35\n",
            " -------------------\n",
            "loss: 0.000428 [    0/ 2000]\n",
            "loss: 0.000451 [  800/ 2000]\n",
            "loss: 0.000302 [ 1600/ 2000]\n",
            "Test Error: \n",
            " Accuracy 99.9%, Avg loss:0.005042\n",
            "\n",
            "Epoch 36\n",
            " -------------------\n",
            "loss: 0.000396 [    0/ 2000]\n",
            "loss: 0.000418 [  800/ 2000]\n",
            "loss: 0.000279 [ 1600/ 2000]\n",
            "Test Error: \n",
            " Accuracy 99.9%, Avg loss:0.004864\n",
            "\n",
            "Epoch 37\n",
            " -------------------\n",
            "loss: 0.000367 [    0/ 2000]\n",
            "loss: 0.000388 [  800/ 2000]\n",
            "loss: 0.000258 [ 1600/ 2000]\n",
            "Test Error: \n",
            " Accuracy 99.9%, Avg loss:0.004701\n",
            "\n",
            "Epoch 38\n",
            " -------------------\n",
            "loss: 0.000341 [    0/ 2000]\n",
            "loss: 0.000361 [  800/ 2000]\n",
            "loss: 0.000240 [ 1600/ 2000]\n",
            "Test Error: \n",
            " Accuracy 99.9%, Avg loss:0.004545\n",
            "\n",
            "Epoch 39\n",
            " -------------------\n",
            "loss: 0.000317 [    0/ 2000]\n",
            "loss: 0.000336 [  800/ 2000]\n",
            "loss: 0.000222 [ 1600/ 2000]\n",
            "Test Error: \n",
            " Accuracy 100.0%, Avg loss:0.004400\n",
            "\n",
            "Epoch 40\n",
            " -------------------\n",
            "loss: 0.000296 [    0/ 2000]\n",
            "loss: 0.000314 [  800/ 2000]\n",
            "loss: 0.000207 [ 1600/ 2000]\n",
            "Test Error: \n",
            " Accuracy 100.0%, Avg loss:0.004262\n",
            "\n",
            "Epoch 41\n",
            " -------------------\n",
            "loss: 0.000276 [    0/ 2000]\n",
            "loss: 0.000293 [  800/ 2000]\n",
            "loss: 0.000193 [ 1600/ 2000]\n",
            "Test Error: \n",
            " Accuracy 100.0%, Avg loss:0.004134\n",
            "\n",
            "Epoch 42\n",
            " -------------------\n",
            "loss: 0.000258 [    0/ 2000]\n",
            "loss: 0.000275 [  800/ 2000]\n",
            "loss: 0.000180 [ 1600/ 2000]\n",
            "Test Error: \n",
            " Accuracy 100.0%, Avg loss:0.004013\n",
            "\n",
            "Epoch 43\n",
            " -------------------\n",
            "loss: 0.000241 [    0/ 2000]\n",
            "loss: 0.000258 [  800/ 2000]\n",
            "loss: 0.000169 [ 1600/ 2000]\n",
            "Test Error: \n",
            " Accuracy 100.0%, Avg loss:0.003897\n",
            "\n",
            "Epoch 44\n",
            " -------------------\n",
            "loss: 0.000226 [    0/ 2000]\n",
            "loss: 0.000242 [  800/ 2000]\n",
            "loss: 0.000158 [ 1600/ 2000]\n",
            "Test Error: \n",
            " Accuracy 100.0%, Avg loss:0.003788\n",
            "\n",
            "Epoch 45\n",
            " -------------------\n",
            "loss: 0.000212 [    0/ 2000]\n",
            "loss: 0.000227 [  800/ 2000]\n",
            "loss: 0.000148 [ 1600/ 2000]\n",
            "Test Error: \n",
            " Accuracy 100.0%, Avg loss:0.003684\n",
            "\n",
            "Epoch 46\n",
            " -------------------\n",
            "loss: 0.000199 [    0/ 2000]\n",
            "loss: 0.000214 [  800/ 2000]\n",
            "loss: 0.000139 [ 1600/ 2000]\n",
            "Test Error: \n",
            " Accuracy 100.0%, Avg loss:0.003585\n",
            "\n",
            "Epoch 47\n",
            " -------------------\n",
            "loss: 0.000187 [    0/ 2000]\n",
            "loss: 0.000201 [  800/ 2000]\n",
            "loss: 0.000130 [ 1600/ 2000]\n",
            "Test Error: \n",
            " Accuracy 100.0%, Avg loss:0.003490\n",
            "\n",
            "Epoch 48\n",
            " -------------------\n",
            "loss: 0.000176 [    0/ 2000]\n",
            "loss: 0.000190 [  800/ 2000]\n",
            "loss: 0.000123 [ 1600/ 2000]\n",
            "Test Error: \n",
            " Accuracy 100.0%, Avg loss:0.003399\n",
            "\n",
            "Epoch 49\n",
            " -------------------\n",
            "loss: 0.000166 [    0/ 2000]\n",
            "loss: 0.000179 [  800/ 2000]\n",
            "loss: 0.000115 [ 1600/ 2000]\n",
            "Test Error: \n",
            " Accuracy 100.0%, Avg loss:0.003312\n",
            "\n",
            "Epoch 50\n",
            " -------------------\n",
            "loss: 0.000156 [    0/ 2000]\n",
            "loss: 0.000169 [  800/ 2000]\n",
            "loss: 0.000109 [ 1600/ 2000]\n",
            "Test Error: \n",
            " Accuracy 100.0%, Avg loss:0.003228\n",
            "\n",
            "Done!\n"
          ]
        }
      ],
      "source": [
        "# train the CNN\n",
        "epochs = 50\n",
        "\n",
        "for t in range(epochs):\n",
        "    print(f\"Epoch {t+1}\\n -------------------\")\n",
        "    train_cnn(train_dataloader_pad,conv_model,loss_fn_cnn,optimizer_cnn,train_loss_cnn,train_acc_cnn)\n",
        "    test_cnn(test_dataloader_pad,conv_model,loss_fn_cnn, test_loss_cnn,test_acc_cnn)\n",
        "print(\"Done!\")"
      ],
      "id": "db2eN3eS0cxI"
    },
    {
      "cell_type": "code",
      "source": [
        "def create_acc_loss_graph(train_acc,train_loss, test_acc, test_loss):\n",
        "    fig, axes = plt.subplots(ncols=2, nrows=1, dpi=300)\n",
        "    fig.set_size_inches(9, 3)\n",
        "    ax1, ax2 = axes[0], axes[1]\n",
        "\n",
        "    ax1.plot(train_acc,'-o',label=\"train\", markersize=4)\n",
        "    ax1.plot(test_acc,'--+',label=\"test\", markersize=4)\n",
        "    ax1.set_xlabel('Epoch')\n",
        "    ax1.set_ylabel('Accuracy')\n",
        "    ax1.legend(loc=3)\n",
        "\n",
        "    ax2.plot(train_loss,'-o',label=\"train\", markersize=4)\n",
        "    ax2.plot(test_loss,'--+',label=\" test\", markersize=4)\n",
        "    ax2.set_xlabel('Epoch')\n",
        "    ax2.set_ylabel('Loss')\n",
        "    ax2.legend(loc=1)\n",
        "\n",
        "    #plot parameters\n",
        "    ax1.set_ylim(0, np.max([np.max(train_acc),np.max(test_acc)])+0.1)\n",
        "    ax2.set_ylim(-0.1, np.max([np.max(train_loss),np.max(test_loss)])+0.1)\n",
        "    ax1.grid(True, which='both',linewidth=0.1)\n",
        "    ax2.grid(True, which='both',linewidth=0.1)\n",
        "    plt.tight_layout()\n",
        "    plt.show()"
      ],
      "metadata": {
        "id": "f--qWwa24Tzv"
      },
      "id": "f--qWwa24Tzv",
      "execution_count": null,
      "outputs": []
    },
    {
      "cell_type": "code",
      "execution_count": null,
      "metadata": {
        "id": "zkp6BLEe0cxI",
        "colab": {
          "base_uri": "https://localhost:8080/",
          "height": 668
        },
        "outputId": "eb739187-0d1d-4ab3-9348-8747591674ce"
      },
      "outputs": [
        {
          "output_type": "display_data",
          "data": {
            "text/plain": [
              "<Figure size 2700x900 with 2 Axes>"
            ],
            "image/png": "[encoded data removed]"
          },
          "metadata": {}
        }
      ],
      "source": [
        "create_acc_loss_graph(train_acc_cnn,train_loss_cnn, test_acc_cnn, test_loss_cnn)"
      ],
      "id": "zkp6BLEe0cxI"
    },
    {
      "cell_type": "markdown",
      "metadata": {
        "id": "4cdc60f0"
      },
      "source": [
        "##### Step 3.4 Exercise: Analyse and change the model  <a class=\"anchor\" id=\"Step_3_4\"></a>\n",
        "\n",
        "__Question 1:__\n",
        "In the Convolutional Net built during the previous steps, a kernel with size = (2,2) was used, with a stride of (1,1). Considering the physical model used in this example, can you find a reason why these values for kernel size and stride were choosen?\n",
        "\n",
        "__Question 2:__\n",
        "In the first Linear layer used in the Convolutional Network, the input size is 2312. Where does this number come from?\n",
        "\n",
        "__Task 1:__\n",
        "Use the cell below to experiment with the network's architecture to gain understanding of its parameters. Add/remove layers and filters."
      ],
      "id": "4cdc60f0"
    },
    {
      "cell_type": "code",
      "execution_count": null,
      "metadata": {
        "id": "a4991e2d"
      },
      "outputs": [],
      "source": [
        "class Conv_Net(nn.Module):\n",
        "    def __init__(self):\n",
        "        super(Conv_Net, self).__init__()\n",
        "        self.conv1 = nn.Conv2d(in_channels=2, out_channels=8, kernel_size=2, stride=1)\n",
        "        self.flatten = nn.Flatten()\n",
        "        self.fc1 = nn.Linear(2312, 8)\n",
        "        # question for students: how do we know the number 2312?\n",
        "        self.fc2 = nn.Linear(8, 2)\n",
        "\n",
        "    # x represents our data\n",
        "    def forward(self, x):\n",
        "        # Pass data through conv1\n",
        "        x = self.conv1(x)\n",
        "        x = F.relu(x) # Use the rectified-linear activation function over x\n",
        "        x = torch.flatten(x, 1) # Flatten x with start_dim=1\n",
        "        x = self.fc1(x) # Pass data through fc1\n",
        "        x = F.relu(x)\n",
        "        x = self.fc2(x) # Pass data through fc1\n",
        "        output = x\n",
        "        return output\n",
        "\n",
        "conv_model = Conv_Net().to(device)\n",
        "print(conv_model)\n",
        "\n",
        "# print the number of trainable parameters\n",
        "pytorch_total_params = sum(p.numel() for p in conv_model.parameters())\n",
        "print(pytorch_total_params)"
      ],
      "id": "a4991e2d"
    },
    {
      "cell_type": "code",
      "source": [],
      "metadata": {
        "id": "y0F7yHE_4GYw"
      },
      "id": "y0F7yHE_4GYw",
      "execution_count": null,
      "outputs": []
    }
  ],
  "metadata": {
    "kernelspec": {
      "display_name": "Python 3 (ipykernel)",
      "language": "python",
      "name": "python3"
    },
    "language_info": {
      "codemirror_mode": {
        "name": "ipython",
        "version": 3
      },
      "file_extension": ".py",
      "mimetype": "text/x-python",
      "name": "python",
      "nbconvert_exporter": "python",
      "pygments_lexer": "ipython3",
      "version": "3.9.7"
    },
    "colab": {
      "provenance": [],
      "include_colab_link": true
    }
  },
  "nbformat": 4,
  "nbformat_minor": 5
}